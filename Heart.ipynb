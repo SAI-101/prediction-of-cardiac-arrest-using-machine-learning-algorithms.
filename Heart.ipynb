{
  "nbformat": 4,
  "nbformat_minor": 0,
  "metadata": {
    "colab": {
      "name": "Heart.ipynb",
      "private_outputs": true,
      "provenance": [],
      "collapsed_sections": [],
      "toc_visible": true
    },
    "kernelspec": {
      "name": "python3",
      "display_name": "Python 3"
    },
    "accelerator": "GPU"
  },
  "cells": [
    {
      "cell_type": "code",
      "metadata": {
        "id": "l2fMHxMISK8l"
      },
      "source": [
        "import numpy as np \n",
        "import pandas as pd"
      ],
      "execution_count": null,
      "outputs": []
    },
    {
      "cell_type": "code",
      "metadata": {
        "id": "t4IqZsmC0qu4"
      },
      "source": [
        "df = pd.read_csv('/content/hungarian.csv')"
      ],
      "execution_count": null,
      "outputs": []
    },
    {
      "cell_type": "code",
      "metadata": {
        "id": "DIw0IPu_X7BQ"
      },
      "source": [
        ""
      ],
      "execution_count": null,
      "outputs": []
    },
    {
      "cell_type": "code",
      "metadata": {
        "id": "zwQo5JWH1fcU"
      },
      "source": [
        "df.head(5)"
      ],
      "execution_count": null,
      "outputs": []
    },
    {
      "cell_type": "code",
      "metadata": {
        "id": "nje_aVZU1mGF"
      },
      "source": [
        "df.columns"
      ],
      "execution_count": null,
      "outputs": []
    },
    {
      "cell_type": "code",
      "metadata": {
        "id": "QZodTajk1urB"
      },
      "source": [
        "from bokeh.io import output_notebook\n",
        "from bokeh.io import show\n",
        "from bokeh.plotting import figure\n",
        "from bokeh.transform import cumsum\n",
        "from bokeh.palettes import Spectral6\n",
        "from bokeh.models import ColumnDataSource\n",
        "from bokeh.layouts import gridplot\n",
        "from math import pi"
      ],
      "execution_count": null,
      "outputs": []
    },
    {
      "cell_type": "code",
      "metadata": {
        "id": "4xUnExwJ1wmB"
      },
      "source": [
        "output_notebook()"
      ],
      "execution_count": null,
      "outputs": []
    },
    {
      "cell_type": "code",
      "metadata": {
        "id": "aC1CPppylE7o"
      },
      "source": [
        ""
      ],
      "execution_count": null,
      "outputs": []
    },
    {
      "cell_type": "code",
      "metadata": {
        "id": "hFWYP10q13iW"
      },
      "source": [
        "df['target'].value_counts()"
      ],
      "execution_count": null,
      "outputs": []
    },
    {
      "cell_type": "code",
      "metadata": {
        "id": "iumVobxf17P5"
      },
      "source": [
        "df['target'].value_counts()[0]"
      ],
      "execution_count": null,
      "outputs": []
    },
    {
      "cell_type": "code",
      "metadata": {
        "id": "LRMczr4T1-_w"
      },
      "source": [
        "unique = [\"0\", '1']\n",
        "top = [df['target'].value_counts()[0], df['target'].value_counts()[1]]\n",
        "source = ColumnDataSource(data = dict(Target = unique, counts = top, color = Spectral6))"
      ],
      "execution_count": null,
      "outputs": []
    },
    {
      "cell_type": "code",
      "metadata": {
        "id": "wHLKUc_t2NGp"
      },
      "source": [
        "p = figure(\n",
        "    x_range = unique,\n",
        "    plot_height = 500,\n",
        "    plot_width = 500,\n",
        "    x_axis_label = 'Target',\n",
        "    y_axis_label = 'Count(Target)',\n",
        "    title = 'Count of People Having Heart Disease and Not Having Heart Disease',\n",
        "    tools = \"hover\", tooltips=\"@Target: @counts\"\n",
        ") \n",
        "\n",
        "p.vbar(\n",
        "    x = 'Target',\n",
        "    top = 'counts',\n",
        "    bottom = 0,\n",
        "    width = 0.9,\n",
        "    source = source,\n",
        "    color = 'color'\n",
        ")"
      ],
      "execution_count": null,
      "outputs": []
    },
    {
      "cell_type": "code",
      "metadata": {
        "id": "VCS7nMlV2WCg"
      },
      "source": [
        "target = {\n",
        "            'No Heart Disease' : df['target'].value_counts()[0], \n",
        "          'Have Heart Disease' : df['target'].value_counts()[1]\n",
        "         }\n",
        "\n",
        "data = pd.Series(target).reset_index(name = 'value').rename(columns = {'index':'target'})\n",
        "data['angle'] = data['value']/data['value'].sum() * 2 * pi\n",
        "data['color'] = ['skyblue', 'salmon']"
      ],
      "execution_count": null,
      "outputs": []
    },
    {
      "cell_type": "code",
      "metadata": {
        "id": "dB8zTbI22tXA"
      },
      "source": [
        "p1 = figure(\n",
        "            plot_height = 500, \n",
        "            plot_width = 500, \n",
        "            title = \"Proportion of People Having Heart Disease and not Having Heart Disease\", \n",
        "            toolbar_location = None, \n",
        "            tools = \"hover\", \n",
        "            tooltips = \"@target: @value\", \n",
        "            x_range = (-0.5, 1.0)\n",
        "            )\n",
        "\n",
        "p1.wedge(\n",
        "        x = 0, y = 1, radius = 0.4,\n",
        "        start_angle = cumsum('angle', include_zero=True), \n",
        "        end_angle = cumsum('angle'),\n",
        "        line_color = \"white\", \n",
        "        fill_color = 'color', \n",
        "        legend_field = 'target', \n",
        "        source = data\n",
        "        )\n",
        "\n",
        "p1.legend.location = \"top_right\"\n",
        "\n",
        "p1.legend.label_text_font_size = '5pt'"
      ],
      "execution_count": null,
      "outputs": []
    },
    {
      "cell_type": "code",
      "metadata": {
        "id": "06V0X5ZQ2xAb"
      },
      "source": [
        "show(gridplot([[p], [p1]]))"
      ],
      "execution_count": null,
      "outputs": []
    },
    {
      "cell_type": "code",
      "metadata": {
        "id": "ZJK0SgpxDNFB"
      },
      "source": [
        "print(\"Percentage of people having Heart Disease\", round(df['target'].value_counts()[1] / (df['target'].value_counts()[0] + df['target'].value_counts()[1]), 2) * 100)\n",
        "print(\"Percentage of people not having Heart Disease\", round(df['target'].value_counts()[0] / (df['target'].value_counts()[0] + df['target'].value_counts()[1]), 2) * 100)"
      ],
      "execution_count": null,
      "outputs": []
    },
    {
      "cell_type": "code",
      "metadata": {
        "id": "GhYdyTzxDZoL"
      },
      "source": [
        "df.isnull().sum()"
      ],
      "execution_count": null,
      "outputs": []
    },
    {
      "cell_type": "code",
      "metadata": {
        "id": "p7QJqNn6DjNI"
      },
      "source": [
        "for column in df.columns:\n",
        "    if len(df[column].unique()) <= 10:\n",
        "        print(f\"{column} : {df[column].unique()}\")\n",
        "        categorical_var.append(column)\n",
        "        print()\n",
        "    else:\n",
        "      continuous_var.append(column) \n",
        "        \n",
        "print(\"Categorical Variables are: \", categorical_var)\n",
        "print(\"Continuous Variables are: \", continuous_var)"
      ],
      "execution_count": null,
      "outputs": []
    },
    {
      "cell_type": "code",
      "metadata": {
        "id": "09UpRr7rEOmv"
      },
      "source": [
        "def count_of_each_category(column_name):\n",
        "    \"\"\"\n",
        "    A function which will plot the count of each category for a particular column using bokeh.\n",
        "    \"\"\"\n",
        "    values = {}\n",
        "    for i in df[column_name].value_counts().index:\n",
        "        values[i] = df[column_name].value_counts()[i]\n",
        "    column = list(values.keys())\n",
        "    top = list(values.values())\n",
        "    source = ColumnDataSource(data = dict(Classes = column, counts = top, color = Spectral6))\n",
        "\n",
        "    p2 = figure(\n",
        "        plot_height = 400,\n",
        "        plot_width = 400,\n",
        "        x_axis_label = column_name, \n",
        "        y_axis_label = 'Count(Classes)',\n",
        "        tools=\"hover\", tooltips=\"@Classes: @counts\"\n",
        "    )\n",
        "\n",
        "    p2.vbar(\n",
        "        x = 'Classes',\n",
        "        top = 'counts',\n",
        "        bottom = 0,\n",
        "        width = 0.9,\n",
        "        source = source,\n",
        "        color = 'color'\n",
        "    )\n",
        "    \n",
        "    return p2\n",
        "    "
      ],
      "execution_count": null,
      "outputs": []
    }
  ]
}